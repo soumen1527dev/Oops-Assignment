{
 "cells": [
  {
   "cell_type": "code",
   "execution_count": 16,
   "id": "2504993f-2605-4569-b814-e351ce00cc42",
   "metadata": {},
   "outputs": [
    {
     "name": "stdout",
     "output_type": "stream",
     "text": [
      "Vehicle: Bus\n",
      "Max Speed: 100 km/h\n",
      "Average Speed: 40 km/h\n"
     ]
    }
   ],
   "source": [
    "# Q1, Create a vehicle class with an init method having instance variables as name_of_vehicle, max_speed\n",
    "# and average_of_vehicle.\n",
    "# Ans:\n",
    "\n",
    "class vehicle:\n",
    "    \n",
    "    def __init__(self, name_of_vehicle, max_speed, average_of_vehicle):\n",
    "        self.__name_of_vehicle = name_of_vehicle\n",
    "        self.__max_speed = max_speed\n",
    "        self.__average_of_vehicle = average_of_vehicle   \n",
    "\n",
    "car = Vehicle(\"Bus\", 100, 40)\n",
    "print(f\"Vehicle: {car.name_of_vehicle}\")\n",
    "print(f\"Max Speed: {car.max_speed} km/h\")\n",
    "print(f\"Average Speed: {car.average_speed} km/h\")"
   ]
  },
  {
   "cell_type": "code",
   "execution_count": 22,
   "id": "90c93dd4-a6af-4b65-922a-729e690ce774",
   "metadata": {},
   "outputs": [
    {
     "name": "stdout",
     "output_type": "stream",
     "text": [
      "Bus has a seating capacity of 10 passengers.\n"
     ]
    }
   ],
   "source": [
    "# Q2. Create a child class car from the vehicle class created in Que 1, which will inherit the vehicle class.\n",
    "# Create a method named seating_capacity which takes capacity as an argument and returns the name of\n",
    "# the vehicle and its seating capacity.\n",
    "# Ans:\n",
    "\n",
    "class Vehicle:\n",
    "    def __init__(self, name_of_vehicle, max_speed, average_speed):\n",
    "        self.name_of_vehicle = name_of_vehicle\n",
    "        self.max_speed = max_speed\n",
    "        self.average_speed = average_speed\n",
    "\n",
    "class Car(Vehicle):\n",
    "    def __init__(self, name_of_vehicle, max_speed, average_speed):\n",
    "        super().__init__(name_of_vehicle, max_speed, average_speed)\n",
    "    \n",
    "    def seating_capacity(self, capacity):\n",
    "        return f\"{self.name_of_vehicle} has a seating capacity of {capacity} passengers.\"\n",
    "\n",
    "\n",
    "car = Car(\"Bus\", 200, 60)\n",
    "print(car.seating_capacity(10))"
   ]
  },
  {
   "cell_type": "code",
   "execution_count": 39,
   "id": "917fc987-b14d-4307-b6bd-f6c5755746cb",
   "metadata": {},
   "outputs": [
    {
     "data": {
      "text/plain": [
       "'This is class1'"
      ]
     },
     "execution_count": 39,
     "metadata": {},
     "output_type": "execute_result"
    }
   ],
   "source": [
    "# Q3. What is multiple inheritance? Write a python code to demonstrate multiple inheritance.\n",
    "# Ans:\n",
    "\n",
    "# Multiple inheritance is a feature in object-oriented programming where a class can inherit\n",
    "# attributes and methods from more than one parent class.\n",
    "\n",
    "class class1:\n",
    "    \n",
    "    def test_class1(self):\n",
    "        return \"This is class1\"\n",
    "    \n",
    "class class2:\n",
    "    \n",
    "    def test_class2(self):\n",
    "        return \"This is class2\"\n",
    "    \n",
    "class class3(class1, class2):\n",
    "    pass\n",
    "\n",
    "obj_class3 = class3()\n",
    "obj_class3.test_class1()"
   ]
  },
  {
   "cell_type": "code",
   "execution_count": 40,
   "id": "f6a39955-ae8a-4274-93de-dc36154ca511",
   "metadata": {},
   "outputs": [
    {
     "data": {
      "text/plain": [
       "'This is class2'"
      ]
     },
     "execution_count": 40,
     "metadata": {},
     "output_type": "execute_result"
    }
   ],
   "source": [
    "obj_class3.test_class2()"
   ]
  },
  {
   "cell_type": "code",
   "execution_count": 43,
   "id": "c2fe0f77-b8d1-4868-8e4a-4ddaaa966b5b",
   "metadata": {},
   "outputs": [
    {
     "name": "stdout",
     "output_type": "stream",
     "text": [
      "Name: Soumen\n",
      "Updated Name: sou\n",
      "Age: 18\n",
      "Updated Age: 19\n"
     ]
    }
   ],
   "source": [
    "# Q4. What are getter and setter in python? Create a class and create a getter and a setter method in this\n",
    "# class.\n",
    "# Ans :\n",
    "\n",
    "# In Python, getters and setters are methods used to control access to the attributes (instance variables) of a class.\n",
    "# They are often used to enforce encapsulation and provide a way to read and modify the values of class attributes\n",
    "# while maintaining control over how those values are accessed or changed.\n",
    "\n",
    "class Person:\n",
    "    def __init__(self, name, age):\n",
    "        self._name = name  \n",
    "        self._age = age    \n",
    "\n",
    "   \n",
    "    def get_name(self):\n",
    "        return self._name\n",
    "\n",
    "  \n",
    "    def set_name(self, name):\n",
    "        self._name = name\n",
    "\n",
    "  \n",
    "    def get_age(self):\n",
    "        return self._age\n",
    "\n",
    "   \n",
    "    def set_age(self, age):\n",
    "        if age < 0:\n",
    "            raise ValueError(\"Age cannot be negative\")\n",
    "        self._age = age\n",
    "\n",
    "\n",
    "person = Person(\"Soumen\", 18)\n",
    "\n",
    "\n",
    "print(\"Name:\", person.get_name())\n",
    "\n",
    "\n",
    "person.set_name(\"sou\")\n",
    "print(\"Updated Name:\", person.get_name())\n",
    "\n",
    "\n",
    "print(\"Age:\", person.get_age())\n",
    "\n",
    "\n",
    "person.set_age(19)\n",
    "print(\"Updated Age:\", person.get_age())\n"
   ]
  },
  {
   "cell_type": "code",
   "execution_count": 45,
   "id": "fec28633-272f-4cf0-910a-ecfc656b0618",
   "metadata": {},
   "outputs": [
    {
     "name": "stdout",
     "output_type": "stream",
     "text": [
      "Dog barks\n",
      "Cat meows\n"
     ]
    }
   ],
   "source": [
    "# Q5.What is method overriding in python? Write a python code to demonstrate method overriding.\n",
    "# Ans :\n",
    "\n",
    "# Method overriding in Python is a feature of object-oriented programming that allows a subclass\n",
    "# to provide a specific implementation for a method that is already defined in its superclass. \n",
    "# When a subclass overrides a method, it replaces the implementation of that method inherited\n",
    "# from the superclass with its own implementation. This allows you to customize the behavior\n",
    "# of a method for a specific subclass while maintaining the same method name and signature.\n",
    "\n",
    "class Animal:\n",
    "    def speak(self):\n",
    "        print(\"Animal speaks\")\n",
    "\n",
    "class Dog(Animal):\n",
    "    def speak(self):\n",
    "        print(\"Dog barks\")\n",
    "\n",
    "class Cat(Animal):\n",
    "    def speak(self):\n",
    "        print(\"Cat meows\")\n",
    "\n",
    "\n",
    "dog = Dog()\n",
    "cat = Cat()\n",
    "\n",
    "\n",
    "dog.speak()  \n",
    "cat.speak()"
   ]
  },
  {
   "cell_type": "code",
   "execution_count": null,
   "id": "dc759302-a462-4142-9760-26467cdb1605",
   "metadata": {},
   "outputs": [],
   "source": []
  }
 ],
 "metadata": {
  "kernelspec": {
   "display_name": "Python 3 (ipykernel)",
   "language": "python",
   "name": "python3"
  },
  "language_info": {
   "codemirror_mode": {
    "name": "ipython",
    "version": 3
   },
   "file_extension": ".py",
   "mimetype": "text/x-python",
   "name": "python",
   "nbconvert_exporter": "python",
   "pygments_lexer": "ipython3",
   "version": "3.10.8"
  }
 },
 "nbformat": 4,
 "nbformat_minor": 5
}
